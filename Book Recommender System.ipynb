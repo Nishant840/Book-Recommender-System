{
 "cells": [
  {
   "cell_type": "markdown",
   "id": "4dc5c570-e1e1-49eb-abe4-ff51131245fe",
   "metadata": {},
   "source": [
    "<h1 style=\"text-align: center;\">Book Recommender System</h1>"
   ]
  },
  {
   "cell_type": "code",
   "execution_count": 1,
   "id": "b319f30e-35f8-4340-9a8b-7c2170361b18",
   "metadata": {},
   "outputs": [],
   "source": [
    "# importing important libraries \n",
    "import numpy as np\n",
    "import pandas as pd"
   ]
  },
  {
   "cell_type": "markdown",
   "id": "967ee196-34c4-4ac0-b308-eb5bc51634f1",
   "metadata": {},
   "source": [
    "reading dataset:"
   ]
  },
  {
   "cell_type": "code",
   "execution_count": 2,
   "id": "62b2e528-4095-4f44-89e6-dc547ff57713",
   "metadata": {},
   "outputs": [
    {
     "name": "stderr",
     "output_type": "stream",
     "text": [
      "/var/folders/n1/5mqjbs_d7r53q3v_5z5rv2680000gn/T/ipykernel_9571/927319382.py:1: DtypeWarning: Columns (3) have mixed types. Specify dtype option on import or set low_memory=False.\n",
      "  books = pd.read_csv('data/Books.csv')\n"
     ]
    }
   ],
   "source": [
    "books = pd.read_csv('data/Books.csv')\n",
    "users = pd.read_csv('data/Users.csv')\n",
    "ratings = pd.read_csv('data/Ratings.csv')"
   ]
  },
  {
   "cell_type": "code",
   "execution_count": 3,
   "id": "34e54ee9-9802-4b8e-8549-cf3bb82d46c1",
   "metadata": {},
   "outputs": [
    {
     "data": {
      "text/html": [
       "<div>\n",
       "<style scoped>\n",
       "    .dataframe tbody tr th:only-of-type {\n",
       "        vertical-align: middle;\n",
       "    }\n",
       "\n",
       "    .dataframe tbody tr th {\n",
       "        vertical-align: top;\n",
       "    }\n",
       "\n",
       "    .dataframe thead th {\n",
       "        text-align: right;\n",
       "    }\n",
       "</style>\n",
       "<table border=\"1\" class=\"dataframe\">\n",
       "  <thead>\n",
       "    <tr style=\"text-align: right;\">\n",
       "      <th></th>\n",
       "      <th>ISBN</th>\n",
       "      <th>Book-Title</th>\n",
       "      <th>Book-Author</th>\n",
       "      <th>Year-Of-Publication</th>\n",
       "      <th>Publisher</th>\n",
       "      <th>Image-URL-S</th>\n",
       "      <th>Image-URL-M</th>\n",
       "      <th>Image-URL-L</th>\n",
       "    </tr>\n",
       "  </thead>\n",
       "  <tbody>\n",
       "    <tr>\n",
       "      <th>257511</th>\n",
       "      <td>0743403355</td>\n",
       "      <td>The Dream of the Broken Horses</td>\n",
       "      <td>William Bayer</td>\n",
       "      <td>2002</td>\n",
       "      <td>Pocket Star</td>\n",
       "      <td>http://images.amazon.com/images/P/0743403355.0...</td>\n",
       "      <td>http://images.amazon.com/images/P/0743403355.0...</td>\n",
       "      <td>http://images.amazon.com/images/P/0743403355.0...</td>\n",
       "    </tr>\n",
       "    <tr>\n",
       "      <th>299</th>\n",
       "      <td>1563898586</td>\n",
       "      <td>The League of Extraordinary Gentlemen, Vol. 1</td>\n",
       "      <td>Alan Moore</td>\n",
       "      <td>2002</td>\n",
       "      <td>DC Comics</td>\n",
       "      <td>http://images.amazon.com/images/P/1563898586.0...</td>\n",
       "      <td>http://images.amazon.com/images/P/1563898586.0...</td>\n",
       "      <td>http://images.amazon.com/images/P/1563898586.0...</td>\n",
       "    </tr>\n",
       "    <tr>\n",
       "      <th>883</th>\n",
       "      <td>1884777805</td>\n",
       "      <td>Elements of Programming With Perl</td>\n",
       "      <td>Andrew L. Johnson</td>\n",
       "      <td>1999</td>\n",
       "      <td>Manning Publications</td>\n",
       "      <td>http://images.amazon.com/images/P/1884777805.0...</td>\n",
       "      <td>http://images.amazon.com/images/P/1884777805.0...</td>\n",
       "      <td>http://images.amazon.com/images/P/1884777805.0...</td>\n",
       "    </tr>\n",
       "    <tr>\n",
       "      <th>15559</th>\n",
       "      <td>0373243952</td>\n",
       "      <td>Ties That Bind (A Family Bond) (Silhouette Spe...</td>\n",
       "      <td>Ginna Gray</td>\n",
       "      <td>2001</td>\n",
       "      <td>Silhouette</td>\n",
       "      <td>http://images.amazon.com/images/P/0373243952.0...</td>\n",
       "      <td>http://images.amazon.com/images/P/0373243952.0...</td>\n",
       "      <td>http://images.amazon.com/images/P/0373243952.0...</td>\n",
       "    </tr>\n",
       "    <tr>\n",
       "      <th>265922</th>\n",
       "      <td>0809121220</td>\n",
       "      <td>Richard of St. Victor: The Twelve Patriarchs, ...</td>\n",
       "      <td>Grover A. Zinn</td>\n",
       "      <td>1979</td>\n",
       "      <td>Paulist Press</td>\n",
       "      <td>http://images.amazon.com/images/P/0809121220.0...</td>\n",
       "      <td>http://images.amazon.com/images/P/0809121220.0...</td>\n",
       "      <td>http://images.amazon.com/images/P/0809121220.0...</td>\n",
       "    </tr>\n",
       "  </tbody>\n",
       "</table>\n",
       "</div>"
      ],
      "text/plain": [
       "              ISBN                                         Book-Title  \\\n",
       "257511  0743403355                     The Dream of the Broken Horses   \n",
       "299     1563898586      The League of Extraordinary Gentlemen, Vol. 1   \n",
       "883     1884777805                  Elements of Programming With Perl   \n",
       "15559   0373243952  Ties That Bind (A Family Bond) (Silhouette Spe...   \n",
       "265922  0809121220  Richard of St. Victor: The Twelve Patriarchs, ...   \n",
       "\n",
       "              Book-Author Year-Of-Publication             Publisher  \\\n",
       "257511      William Bayer                2002           Pocket Star   \n",
       "299            Alan Moore                2002             DC Comics   \n",
       "883     Andrew L. Johnson                1999  Manning Publications   \n",
       "15559          Ginna Gray                2001            Silhouette   \n",
       "265922     Grover A. Zinn                1979         Paulist Press   \n",
       "\n",
       "                                              Image-URL-S  \\\n",
       "257511  http://images.amazon.com/images/P/0743403355.0...   \n",
       "299     http://images.amazon.com/images/P/1563898586.0...   \n",
       "883     http://images.amazon.com/images/P/1884777805.0...   \n",
       "15559   http://images.amazon.com/images/P/0373243952.0...   \n",
       "265922  http://images.amazon.com/images/P/0809121220.0...   \n",
       "\n",
       "                                              Image-URL-M  \\\n",
       "257511  http://images.amazon.com/images/P/0743403355.0...   \n",
       "299     http://images.amazon.com/images/P/1563898586.0...   \n",
       "883     http://images.amazon.com/images/P/1884777805.0...   \n",
       "15559   http://images.amazon.com/images/P/0373243952.0...   \n",
       "265922  http://images.amazon.com/images/P/0809121220.0...   \n",
       "\n",
       "                                              Image-URL-L  \n",
       "257511  http://images.amazon.com/images/P/0743403355.0...  \n",
       "299     http://images.amazon.com/images/P/1563898586.0...  \n",
       "883     http://images.amazon.com/images/P/1884777805.0...  \n",
       "15559   http://images.amazon.com/images/P/0373243952.0...  \n",
       "265922  http://images.amazon.com/images/P/0809121220.0...  "
      ]
     },
     "execution_count": 3,
     "metadata": {},
     "output_type": "execute_result"
    }
   ],
   "source": [
    "books.sample(5)"
   ]
  },
  {
   "cell_type": "code",
   "execution_count": 4,
   "id": "e2c13d4c-4951-4388-9f4a-0bffa9f72eb3",
   "metadata": {},
   "outputs": [
    {
     "data": {
      "text/html": [
       "<div>\n",
       "<style scoped>\n",
       "    .dataframe tbody tr th:only-of-type {\n",
       "        vertical-align: middle;\n",
       "    }\n",
       "\n",
       "    .dataframe tbody tr th {\n",
       "        vertical-align: top;\n",
       "    }\n",
       "\n",
       "    .dataframe thead th {\n",
       "        text-align: right;\n",
       "    }\n",
       "</style>\n",
       "<table border=\"1\" class=\"dataframe\">\n",
       "  <thead>\n",
       "    <tr style=\"text-align: right;\">\n",
       "      <th></th>\n",
       "      <th>User-ID</th>\n",
       "      <th>Location</th>\n",
       "      <th>Age</th>\n",
       "    </tr>\n",
       "  </thead>\n",
       "  <tbody>\n",
       "    <tr>\n",
       "      <th>153621</th>\n",
       "      <td>153622</td>\n",
       "      <td>baltimore, maryland, usa</td>\n",
       "      <td>45.0</td>\n",
       "    </tr>\n",
       "    <tr>\n",
       "      <th>145211</th>\n",
       "      <td>145212</td>\n",
       "      <td>old orchard beach, maine, usa</td>\n",
       "      <td>NaN</td>\n",
       "    </tr>\n",
       "    <tr>\n",
       "      <th>121018</th>\n",
       "      <td>121019</td>\n",
       "      <td>wolverhampton, england, united kingdom</td>\n",
       "      <td>NaN</td>\n",
       "    </tr>\n",
       "    <tr>\n",
       "      <th>90149</th>\n",
       "      <td>90150</td>\n",
       "      <td>mundelein, illinois, usa</td>\n",
       "      <td>48.0</td>\n",
       "    </tr>\n",
       "    <tr>\n",
       "      <th>83866</th>\n",
       "      <td>83867</td>\n",
       "      <td>grevenbroich, nordrhein-westfalen, germany</td>\n",
       "      <td>35.0</td>\n",
       "    </tr>\n",
       "  </tbody>\n",
       "</table>\n",
       "</div>"
      ],
      "text/plain": [
       "        User-ID                                    Location   Age\n",
       "153621   153622                    baltimore, maryland, usa  45.0\n",
       "145211   145212               old orchard beach, maine, usa   NaN\n",
       "121018   121019      wolverhampton, england, united kingdom   NaN\n",
       "90149     90150                    mundelein, illinois, usa  48.0\n",
       "83866     83867  grevenbroich, nordrhein-westfalen, germany  35.0"
      ]
     },
     "execution_count": 4,
     "metadata": {},
     "output_type": "execute_result"
    }
   ],
   "source": [
    "users.sample(5)"
   ]
  },
  {
   "cell_type": "code",
   "execution_count": 5,
   "id": "81f5452a-9225-4386-b1f4-c85da6f8e6c1",
   "metadata": {},
   "outputs": [
    {
     "data": {
      "text/html": [
       "<div>\n",
       "<style scoped>\n",
       "    .dataframe tbody tr th:only-of-type {\n",
       "        vertical-align: middle;\n",
       "    }\n",
       "\n",
       "    .dataframe tbody tr th {\n",
       "        vertical-align: top;\n",
       "    }\n",
       "\n",
       "    .dataframe thead th {\n",
       "        text-align: right;\n",
       "    }\n",
       "</style>\n",
       "<table border=\"1\" class=\"dataframe\">\n",
       "  <thead>\n",
       "    <tr style=\"text-align: right;\">\n",
       "      <th></th>\n",
       "      <th>User-ID</th>\n",
       "      <th>ISBN</th>\n",
       "      <th>Book-Rating</th>\n",
       "    </tr>\n",
       "  </thead>\n",
       "  <tbody>\n",
       "    <tr>\n",
       "      <th>1107478</th>\n",
       "      <td>265607</td>\n",
       "      <td>0553260111</td>\n",
       "      <td>8</td>\n",
       "    </tr>\n",
       "    <tr>\n",
       "      <th>291961</th>\n",
       "      <td>69554</td>\n",
       "      <td>0345303253</td>\n",
       "      <td>0</td>\n",
       "    </tr>\n",
       "    <tr>\n",
       "      <th>86865</th>\n",
       "      <td>18519</td>\n",
       "      <td>0451203569</td>\n",
       "      <td>0</td>\n",
       "    </tr>\n",
       "    <tr>\n",
       "      <th>51627</th>\n",
       "      <td>11676</td>\n",
       "      <td>0553290789</td>\n",
       "      <td>5</td>\n",
       "    </tr>\n",
       "    <tr>\n",
       "      <th>485530</th>\n",
       "      <td>115488</td>\n",
       "      <td>0345283929</td>\n",
       "      <td>0</td>\n",
       "    </tr>\n",
       "  </tbody>\n",
       "</table>\n",
       "</div>"
      ],
      "text/plain": [
       "         User-ID        ISBN  Book-Rating\n",
       "1107478   265607  0553260111            8\n",
       "291961     69554  0345303253            0\n",
       "86865      18519  0451203569            0\n",
       "51627      11676  0553290789            5\n",
       "485530    115488  0345283929            0"
      ]
     },
     "execution_count": 5,
     "metadata": {},
     "output_type": "execute_result"
    }
   ],
   "source": [
    "ratings.sample(5)"
   ]
  },
  {
   "cell_type": "code",
   "execution_count": 6,
   "id": "34f78192-4d78-4349-aba4-52d1de204c98",
   "metadata": {},
   "outputs": [
    {
     "name": "stdout",
     "output_type": "stream",
     "text": [
      "(271360, 8)\n",
      "(278858, 3)\n",
      "(1149780, 3)\n"
     ]
    }
   ],
   "source": [
    "print(books.shape)\n",
    "print(users.shape)\n",
    "print(ratings.shape)"
   ]
  },
  {
   "cell_type": "code",
   "execution_count": 7,
   "id": "93400905-e220-4837-9630-bef64c607559",
   "metadata": {},
   "outputs": [
    {
     "data": {
      "text/plain": [
       "ISBN                   0\n",
       "Book-Title             0\n",
       "Book-Author            2\n",
       "Year-Of-Publication    0\n",
       "Publisher              2\n",
       "Image-URL-S            0\n",
       "Image-URL-M            0\n",
       "Image-URL-L            3\n",
       "dtype: int64"
      ]
     },
     "execution_count": 7,
     "metadata": {},
     "output_type": "execute_result"
    }
   ],
   "source": [
    "books.isnull().sum()"
   ]
  },
  {
   "cell_type": "code",
   "execution_count": 8,
   "id": "3cee1a4b-3c1a-4911-b901-00f3479f297e",
   "metadata": {},
   "outputs": [
    {
     "data": {
      "text/plain": [
       "User-ID          0\n",
       "Location         0\n",
       "Age         110762\n",
       "dtype: int64"
      ]
     },
     "execution_count": 8,
     "metadata": {},
     "output_type": "execute_result"
    }
   ],
   "source": [
    "users.isnull().sum()"
   ]
  },
  {
   "cell_type": "code",
   "execution_count": 9,
   "id": "b6cf3182-e7e8-48ed-a918-84ff86591270",
   "metadata": {},
   "outputs": [
    {
     "data": {
      "text/plain": [
       "User-ID        0\n",
       "ISBN           0\n",
       "Book-Rating    0\n",
       "dtype: int64"
      ]
     },
     "execution_count": 9,
     "metadata": {},
     "output_type": "execute_result"
    }
   ],
   "source": [
    "ratings.isnull().sum()"
   ]
  },
  {
   "cell_type": "code",
   "execution_count": 13,
   "id": "6e5f16af-32ad-487b-92ac-49ff500950ef",
   "metadata": {},
   "outputs": [
    {
     "data": {
      "text/plain": [
       "0"
      ]
     },
     "execution_count": 13,
     "metadata": {},
     "output_type": "execute_result"
    }
   ],
   "source": [
    "books.duplicated().sum()"
   ]
  },
  {
   "cell_type": "code",
   "execution_count": 14,
   "id": "45947927-3df4-460c-9b88-ea295e33298b",
   "metadata": {},
   "outputs": [
    {
     "data": {
      "text/plain": [
       "0"
      ]
     },
     "execution_count": 14,
     "metadata": {},
     "output_type": "execute_result"
    }
   ],
   "source": [
    "users.duplicated().sum()"
   ]
  },
  {
   "cell_type": "code",
   "execution_count": 16,
   "id": "c893c0c7-f752-42b2-a158-2c06a25663c1",
   "metadata": {},
   "outputs": [
    {
     "data": {
      "text/plain": [
       "0"
      ]
     },
     "execution_count": 16,
     "metadata": {},
     "output_type": "execute_result"
    }
   ],
   "source": [
    "ratings.duplicated().sum()"
   ]
  },
  {
   "cell_type": "markdown",
   "id": "c1d736d9-f81a-42c1-b8f0-7fdafb79e4f6",
   "metadata": {},
   "source": [
    "<h2>Popularity Based Recommender System</h2>"
   ]
  },
  {
   "cell_type": "code",
   "execution_count": null,
   "id": "af5235b2-c8a3-4944-9cae-72fd850c5f15",
   "metadata": {},
   "outputs": [],
   "source": []
  }
 ],
 "metadata": {
  "kernelspec": {
   "display_name": "Python 3 (ipykernel)",
   "language": "python",
   "name": "python3"
  },
  "language_info": {
   "codemirror_mode": {
    "name": "ipython",
    "version": 3
   },
   "file_extension": ".py",
   "mimetype": "text/x-python",
   "name": "python",
   "nbconvert_exporter": "python",
   "pygments_lexer": "ipython3",
   "version": "3.12.4"
  }
 },
 "nbformat": 4,
 "nbformat_minor": 5
}
