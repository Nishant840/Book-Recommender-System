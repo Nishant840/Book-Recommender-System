{
 "cells": [
  {
   "cell_type": "markdown",
   "id": "4dc5c570-e1e1-49eb-abe4-ff51131245fe",
   "metadata": {},
   "source": [
    "<h1 style=\"text-align: center;\">Book Recommender System</h1>"
   ]
  },
  {
   "cell_type": "code",
   "execution_count": 1,
   "id": "b319f30e-35f8-4340-9a8b-7c2170361b18",
   "metadata": {},
   "outputs": [],
   "source": [
    "# importing important libraries \n",
    "import numpy as np\n",
    "import pandas as pd"
   ]
  },
  {
   "cell_type": "markdown",
   "id": "967ee196-34c4-4ac0-b308-eb5bc51634f1",
   "metadata": {},
   "source": [
    "reading dataset:"
   ]
  },
  {
   "cell_type": "code",
   "execution_count": 2,
   "id": "62b2e528-4095-4f44-89e6-dc547ff57713",
   "metadata": {},
   "outputs": [
    {
     "name": "stderr",
     "output_type": "stream",
     "text": [
      "/var/folders/n1/5mqjbs_d7r53q3v_5z5rv2680000gn/T/ipykernel_8178/2771179680.py:1: DtypeWarning: Columns (3) have mixed types. Specify dtype option on import or set low_memory=False.\n",
      "  books = pd.read_csv('data/Books.csv')\n"
     ]
    }
   ],
   "source": [
    "books = pd.read_csv('data/Books.csv')\n",
    "users = pd.read_csv('data/Ratings.csv')\n",
    "ratings = pd.read_csv('data/Users.csv')"
   ]
  },
  {
   "cell_type": "code",
   "execution_count": 3,
   "id": "34e54ee9-9802-4b8e-8549-cf3bb82d46c1",
   "metadata": {},
   "outputs": [
    {
     "data": {
      "text/html": [
       "<div>\n",
       "<style scoped>\n",
       "    .dataframe tbody tr th:only-of-type {\n",
       "        vertical-align: middle;\n",
       "    }\n",
       "\n",
       "    .dataframe tbody tr th {\n",
       "        vertical-align: top;\n",
       "    }\n",
       "\n",
       "    .dataframe thead th {\n",
       "        text-align: right;\n",
       "    }\n",
       "</style>\n",
       "<table border=\"1\" class=\"dataframe\">\n",
       "  <thead>\n",
       "    <tr style=\"text-align: right;\">\n",
       "      <th></th>\n",
       "      <th>ISBN</th>\n",
       "      <th>Book-Title</th>\n",
       "      <th>Book-Author</th>\n",
       "      <th>Year-Of-Publication</th>\n",
       "      <th>Publisher</th>\n",
       "      <th>Image-URL-S</th>\n",
       "      <th>Image-URL-M</th>\n",
       "      <th>Image-URL-L</th>\n",
       "    </tr>\n",
       "  </thead>\n",
       "  <tbody>\n",
       "    <tr>\n",
       "      <th>253994</th>\n",
       "      <td>0939117096</td>\n",
       "      <td>Four Centuries of Fashion: Classical Kimono fr...</td>\n",
       "      <td>Michael Morrison</td>\n",
       "      <td>1997</td>\n",
       "      <td>Univ of Washington Pr</td>\n",
       "      <td>http://images.amazon.com/images/P/0939117096.0...</td>\n",
       "      <td>http://images.amazon.com/images/P/0939117096.0...</td>\n",
       "      <td>http://images.amazon.com/images/P/0939117096.0...</td>\n",
       "    </tr>\n",
       "    <tr>\n",
       "      <th>139680</th>\n",
       "      <td>0307131947</td>\n",
       "      <td>Disney's Tarzan (Disney's Tarzan)</td>\n",
       "      <td>Eric Suben</td>\n",
       "      <td>1999</td>\n",
       "      <td>Golden Books Publishing Company</td>\n",
       "      <td>http://images.amazon.com/images/P/0307131947.0...</td>\n",
       "      <td>http://images.amazon.com/images/P/0307131947.0...</td>\n",
       "      <td>http://images.amazon.com/images/P/0307131947.0...</td>\n",
       "    </tr>\n",
       "    <tr>\n",
       "      <th>17430</th>\n",
       "      <td>0757300243</td>\n",
       "      <td>Chicken Soup for the Sister's Soul : 101 Inspi...</td>\n",
       "      <td>Jack Canfield</td>\n",
       "      <td>2002</td>\n",
       "      <td>Health Communications</td>\n",
       "      <td>http://images.amazon.com/images/P/0757300243.0...</td>\n",
       "      <td>http://images.amazon.com/images/P/0757300243.0...</td>\n",
       "      <td>http://images.amazon.com/images/P/0757300243.0...</td>\n",
       "    </tr>\n",
       "    <tr>\n",
       "      <th>172565</th>\n",
       "      <td>0312244444</td>\n",
       "      <td>Glove Puppet</td>\n",
       "      <td>Neal Drinnan</td>\n",
       "      <td>1999</td>\n",
       "      <td>Stonewall Inn Editions</td>\n",
       "      <td>http://images.amazon.com/images/P/0312244444.0...</td>\n",
       "      <td>http://images.amazon.com/images/P/0312244444.0...</td>\n",
       "      <td>http://images.amazon.com/images/P/0312244444.0...</td>\n",
       "    </tr>\n",
       "    <tr>\n",
       "      <th>74900</th>\n",
       "      <td>0061005126</td>\n",
       "      <td>Morningstar</td>\n",
       "      <td>Peter Atkins</td>\n",
       "      <td>1992</td>\n",
       "      <td>Harper Mass Market Paperbacks (Mm)</td>\n",
       "      <td>http://images.amazon.com/images/P/0061005126.0...</td>\n",
       "      <td>http://images.amazon.com/images/P/0061005126.0...</td>\n",
       "      <td>http://images.amazon.com/images/P/0061005126.0...</td>\n",
       "    </tr>\n",
       "  </tbody>\n",
       "</table>\n",
       "</div>"
      ],
      "text/plain": [
       "              ISBN                                         Book-Title  \\\n",
       "253994  0939117096  Four Centuries of Fashion: Classical Kimono fr...   \n",
       "139680  0307131947                  Disney's Tarzan (Disney's Tarzan)   \n",
       "17430   0757300243  Chicken Soup for the Sister's Soul : 101 Inspi...   \n",
       "172565  0312244444                                       Glove Puppet   \n",
       "74900   0061005126                                        Morningstar   \n",
       "\n",
       "             Book-Author Year-Of-Publication  \\\n",
       "253994  Michael Morrison                1997   \n",
       "139680        Eric Suben                1999   \n",
       "17430      Jack Canfield                2002   \n",
       "172565      Neal Drinnan                1999   \n",
       "74900       Peter Atkins                1992   \n",
       "\n",
       "                                 Publisher  \\\n",
       "253994               Univ of Washington Pr   \n",
       "139680     Golden Books Publishing Company   \n",
       "17430                Health Communications   \n",
       "172565              Stonewall Inn Editions   \n",
       "74900   Harper Mass Market Paperbacks (Mm)   \n",
       "\n",
       "                                              Image-URL-S  \\\n",
       "253994  http://images.amazon.com/images/P/0939117096.0...   \n",
       "139680  http://images.amazon.com/images/P/0307131947.0...   \n",
       "17430   http://images.amazon.com/images/P/0757300243.0...   \n",
       "172565  http://images.amazon.com/images/P/0312244444.0...   \n",
       "74900   http://images.amazon.com/images/P/0061005126.0...   \n",
       "\n",
       "                                              Image-URL-M  \\\n",
       "253994  http://images.amazon.com/images/P/0939117096.0...   \n",
       "139680  http://images.amazon.com/images/P/0307131947.0...   \n",
       "17430   http://images.amazon.com/images/P/0757300243.0...   \n",
       "172565  http://images.amazon.com/images/P/0312244444.0...   \n",
       "74900   http://images.amazon.com/images/P/0061005126.0...   \n",
       "\n",
       "                                              Image-URL-L  \n",
       "253994  http://images.amazon.com/images/P/0939117096.0...  \n",
       "139680  http://images.amazon.com/images/P/0307131947.0...  \n",
       "17430   http://images.amazon.com/images/P/0757300243.0...  \n",
       "172565  http://images.amazon.com/images/P/0312244444.0...  \n",
       "74900   http://images.amazon.com/images/P/0061005126.0...  "
      ]
     },
     "execution_count": 3,
     "metadata": {},
     "output_type": "execute_result"
    }
   ],
   "source": [
    "books.sample(5)"
   ]
  },
  {
   "cell_type": "code",
   "execution_count": 4,
   "id": "e2c13d4c-4951-4388-9f4a-0bffa9f72eb3",
   "metadata": {},
   "outputs": [
    {
     "data": {
      "text/html": [
       "<div>\n",
       "<style scoped>\n",
       "    .dataframe tbody tr th:only-of-type {\n",
       "        vertical-align: middle;\n",
       "    }\n",
       "\n",
       "    .dataframe tbody tr th {\n",
       "        vertical-align: top;\n",
       "    }\n",
       "\n",
       "    .dataframe thead th {\n",
       "        text-align: right;\n",
       "    }\n",
       "</style>\n",
       "<table border=\"1\" class=\"dataframe\">\n",
       "  <thead>\n",
       "    <tr style=\"text-align: right;\">\n",
       "      <th></th>\n",
       "      <th>User-ID</th>\n",
       "      <th>ISBN</th>\n",
       "      <th>Book-Rating</th>\n",
       "    </tr>\n",
       "  </thead>\n",
       "  <tbody>\n",
       "    <tr>\n",
       "      <th>755714</th>\n",
       "      <td>182987</td>\n",
       "      <td>0517182173</td>\n",
       "      <td>0</td>\n",
       "    </tr>\n",
       "    <tr>\n",
       "      <th>926890</th>\n",
       "      <td>225379</td>\n",
       "      <td>0451199669</td>\n",
       "      <td>3</td>\n",
       "    </tr>\n",
       "    <tr>\n",
       "      <th>223220</th>\n",
       "      <td>52199</td>\n",
       "      <td>0590453688</td>\n",
       "      <td>0</td>\n",
       "    </tr>\n",
       "    <tr>\n",
       "      <th>281034</th>\n",
       "      <td>66797</td>\n",
       "      <td>0380973588</td>\n",
       "      <td>0</td>\n",
       "    </tr>\n",
       "    <tr>\n",
       "      <th>374741</th>\n",
       "      <td>90049</td>\n",
       "      <td>0553236245</td>\n",
       "      <td>0</td>\n",
       "    </tr>\n",
       "  </tbody>\n",
       "</table>\n",
       "</div>"
      ],
      "text/plain": [
       "        User-ID        ISBN  Book-Rating\n",
       "755714   182987  0517182173            0\n",
       "926890   225379  0451199669            3\n",
       "223220    52199  0590453688            0\n",
       "281034    66797  0380973588            0\n",
       "374741    90049  0553236245            0"
      ]
     },
     "execution_count": 4,
     "metadata": {},
     "output_type": "execute_result"
    }
   ],
   "source": [
    "users.sample(5)"
   ]
  },
  {
   "cell_type": "code",
   "execution_count": 5,
   "id": "81f5452a-9225-4386-b1f4-c85da6f8e6c1",
   "metadata": {},
   "outputs": [
    {
     "data": {
      "text/html": [
       "<div>\n",
       "<style scoped>\n",
       "    .dataframe tbody tr th:only-of-type {\n",
       "        vertical-align: middle;\n",
       "    }\n",
       "\n",
       "    .dataframe tbody tr th {\n",
       "        vertical-align: top;\n",
       "    }\n",
       "\n",
       "    .dataframe thead th {\n",
       "        text-align: right;\n",
       "    }\n",
       "</style>\n",
       "<table border=\"1\" class=\"dataframe\">\n",
       "  <thead>\n",
       "    <tr style=\"text-align: right;\">\n",
       "      <th></th>\n",
       "      <th>User-ID</th>\n",
       "      <th>Location</th>\n",
       "      <th>Age</th>\n",
       "    </tr>\n",
       "  </thead>\n",
       "  <tbody>\n",
       "    <tr>\n",
       "      <th>93155</th>\n",
       "      <td>93156</td>\n",
       "      <td>gander, newfoundland, canada</td>\n",
       "      <td>44.0</td>\n",
       "    </tr>\n",
       "    <tr>\n",
       "      <th>94903</th>\n",
       "      <td>94904</td>\n",
       "      <td>chicago, illinois,</td>\n",
       "      <td>53.0</td>\n",
       "    </tr>\n",
       "    <tr>\n",
       "      <th>82460</th>\n",
       "      <td>82461</td>\n",
       "      <td>chicago, illinois, usa</td>\n",
       "      <td>NaN</td>\n",
       "    </tr>\n",
       "    <tr>\n",
       "      <th>230938</th>\n",
       "      <td>230939</td>\n",
       "      <td>n/a, n/a, netherlands</td>\n",
       "      <td>NaN</td>\n",
       "    </tr>\n",
       "    <tr>\n",
       "      <th>33999</th>\n",
       "      <td>34000</td>\n",
       "      <td>zaragoza, aragon, spain</td>\n",
       "      <td>23.0</td>\n",
       "    </tr>\n",
       "  </tbody>\n",
       "</table>\n",
       "</div>"
      ],
      "text/plain": [
       "        User-ID                      Location   Age\n",
       "93155     93156  gander, newfoundland, canada  44.0\n",
       "94903     94904            chicago, illinois,  53.0\n",
       "82460     82461        chicago, illinois, usa   NaN\n",
       "230938   230939         n/a, n/a, netherlands   NaN\n",
       "33999     34000       zaragoza, aragon, spain  23.0"
      ]
     },
     "execution_count": 5,
     "metadata": {},
     "output_type": "execute_result"
    }
   ],
   "source": [
    "ratings.sample(5)"
   ]
  },
  {
   "cell_type": "code",
   "execution_count": 8,
   "id": "34f78192-4d78-4349-aba4-52d1de204c98",
   "metadata": {},
   "outputs": [
    {
     "name": "stdout",
     "output_type": "stream",
     "text": [
      "(271360, 8)\n",
      "(1149780, 3)\n",
      "(278858, 3)\n"
     ]
    }
   ],
   "source": [
    "print(books.shape)\n",
    "print(users.shape)\n",
    "print(ratings.shape)"
   ]
  },
  {
   "cell_type": "code",
   "execution_count": null,
   "id": "93400905-e220-4837-9630-bef64c607559",
   "metadata": {},
   "outputs": [],
   "source": []
  }
 ],
 "metadata": {
  "kernelspec": {
   "display_name": "Python 3 (ipykernel)",
   "language": "python",
   "name": "python3"
  },
  "language_info": {
   "codemirror_mode": {
    "name": "ipython",
    "version": 3
   },
   "file_extension": ".py",
   "mimetype": "text/x-python",
   "name": "python",
   "nbconvert_exporter": "python",
   "pygments_lexer": "ipython3",
   "version": "3.12.4"
  }
 },
 "nbformat": 4,
 "nbformat_minor": 5
}
