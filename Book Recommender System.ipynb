{
 "cells": [
  {
   "cell_type": "markdown",
   "id": "4dc5c570-e1e1-49eb-abe4-ff51131245fe",
   "metadata": {},
   "source": [
    "<h1 style=\"text-align: center;\">Book Recommender System</h1>"
   ]
  },
  {
   "cell_type": "code",
   "execution_count": 1,
   "id": "b319f30e-35f8-4340-9a8b-7c2170361b18",
   "metadata": {},
   "outputs": [],
   "source": [
    "# importing important libraries \n",
    "import numpy as np\n",
    "import pandas as pd"
   ]
  },
  {
   "cell_type": "markdown",
   "id": "967ee196-34c4-4ac0-b308-eb5bc51634f1",
   "metadata": {},
   "source": [
    "reading dataset:"
   ]
  },
  {
   "cell_type": "code",
   "execution_count": 2,
   "id": "62b2e528-4095-4f44-89e6-dc547ff57713",
   "metadata": {},
   "outputs": [
    {
     "name": "stderr",
     "output_type": "stream",
     "text": [
      "/var/folders/n1/5mqjbs_d7r53q3v_5z5rv2680000gn/T/ipykernel_2160/927319382.py:1: DtypeWarning: Columns (3) have mixed types. Specify dtype option on import or set low_memory=False.\n",
      "  books = pd.read_csv('data/Books.csv')\n"
     ]
    }
   ],
   "source": [
    "books = pd.read_csv('data/Books.csv')\n",
    "users = pd.read_csv('data/Users.csv')\n",
    "ratings = pd.read_csv('data/Ratings.csv')"
   ]
  },
  {
   "cell_type": "code",
   "execution_count": 3,
   "id": "34e54ee9-9802-4b8e-8549-cf3bb82d46c1",
   "metadata": {},
   "outputs": [
    {
     "data": {
      "text/html": [
       "<div>\n",
       "<style scoped>\n",
       "    .dataframe tbody tr th:only-of-type {\n",
       "        vertical-align: middle;\n",
       "    }\n",
       "\n",
       "    .dataframe tbody tr th {\n",
       "        vertical-align: top;\n",
       "    }\n",
       "\n",
       "    .dataframe thead th {\n",
       "        text-align: right;\n",
       "    }\n",
       "</style>\n",
       "<table border=\"1\" class=\"dataframe\">\n",
       "  <thead>\n",
       "    <tr style=\"text-align: right;\">\n",
       "      <th></th>\n",
       "      <th>ISBN</th>\n",
       "      <th>Book-Title</th>\n",
       "      <th>Book-Author</th>\n",
       "      <th>Year-Of-Publication</th>\n",
       "      <th>Publisher</th>\n",
       "      <th>Image-URL-S</th>\n",
       "      <th>Image-URL-M</th>\n",
       "      <th>Image-URL-L</th>\n",
       "    </tr>\n",
       "  </thead>\n",
       "  <tbody>\n",
       "    <tr>\n",
       "      <th>236310</th>\n",
       "      <td>0812540298</td>\n",
       "      <td>Daughter of Joy</td>\n",
       "      <td>Joann Levy</td>\n",
       "      <td>1999</td>\n",
       "      <td>Tor Books</td>\n",
       "      <td>http://images.amazon.com/images/P/0812540298.0...</td>\n",
       "      <td>http://images.amazon.com/images/P/0812540298.0...</td>\n",
       "      <td>http://images.amazon.com/images/P/0812540298.0...</td>\n",
       "    </tr>\n",
       "    <tr>\n",
       "      <th>243752</th>\n",
       "      <td>0688160980</td>\n",
       "      <td>The Last Party: Studio 54, Disco, and the Cult...</td>\n",
       "      <td>Anthony Haden-Guest</td>\n",
       "      <td>1998</td>\n",
       "      <td>Perennial</td>\n",
       "      <td>http://images.amazon.com/images/P/0688160980.0...</td>\n",
       "      <td>http://images.amazon.com/images/P/0688160980.0...</td>\n",
       "      <td>http://images.amazon.com/images/P/0688160980.0...</td>\n",
       "    </tr>\n",
       "    <tr>\n",
       "      <th>52111</th>\n",
       "      <td>0192823949</td>\n",
       "      <td>Castle Rackrent (The World's Classics)</td>\n",
       "      <td>Maria Edgeworth</td>\n",
       "      <td>1995</td>\n",
       "      <td>Oxford University Press</td>\n",
       "      <td>http://images.amazon.com/images/P/0192823949.0...</td>\n",
       "      <td>http://images.amazon.com/images/P/0192823949.0...</td>\n",
       "      <td>http://images.amazon.com/images/P/0192823949.0...</td>\n",
       "    </tr>\n",
       "    <tr>\n",
       "      <th>34954</th>\n",
       "      <td>0373484666</td>\n",
       "      <td>The Heart's Command</td>\n",
       "      <td>Rachel Lee</td>\n",
       "      <td>2002</td>\n",
       "      <td>Silhouette</td>\n",
       "      <td>http://images.amazon.com/images/P/0373484666.0...</td>\n",
       "      <td>http://images.amazon.com/images/P/0373484666.0...</td>\n",
       "      <td>http://images.amazon.com/images/P/0373484666.0...</td>\n",
       "    </tr>\n",
       "    <tr>\n",
       "      <th>20654</th>\n",
       "      <td>0446404039</td>\n",
       "      <td>Dark Place</td>\n",
       "      <td>Aaron Elkins</td>\n",
       "      <td>1994</td>\n",
       "      <td>Warner Books</td>\n",
       "      <td>http://images.amazon.com/images/P/0446404039.0...</td>\n",
       "      <td>http://images.amazon.com/images/P/0446404039.0...</td>\n",
       "      <td>http://images.amazon.com/images/P/0446404039.0...</td>\n",
       "    </tr>\n",
       "  </tbody>\n",
       "</table>\n",
       "</div>"
      ],
      "text/plain": [
       "              ISBN                                         Book-Title  \\\n",
       "236310  0812540298                                    Daughter of Joy   \n",
       "243752  0688160980  The Last Party: Studio 54, Disco, and the Cult...   \n",
       "52111   0192823949             Castle Rackrent (The World's Classics)   \n",
       "34954   0373484666                                The Heart's Command   \n",
       "20654   0446404039                                         Dark Place   \n",
       "\n",
       "                Book-Author Year-Of-Publication                Publisher  \\\n",
       "236310           Joann Levy                1999                Tor Books   \n",
       "243752  Anthony Haden-Guest                1998                Perennial   \n",
       "52111       Maria Edgeworth                1995  Oxford University Press   \n",
       "34954            Rachel Lee                2002               Silhouette   \n",
       "20654          Aaron Elkins                1994             Warner Books   \n",
       "\n",
       "                                              Image-URL-S  \\\n",
       "236310  http://images.amazon.com/images/P/0812540298.0...   \n",
       "243752  http://images.amazon.com/images/P/0688160980.0...   \n",
       "52111   http://images.amazon.com/images/P/0192823949.0...   \n",
       "34954   http://images.amazon.com/images/P/0373484666.0...   \n",
       "20654   http://images.amazon.com/images/P/0446404039.0...   \n",
       "\n",
       "                                              Image-URL-M  \\\n",
       "236310  http://images.amazon.com/images/P/0812540298.0...   \n",
       "243752  http://images.amazon.com/images/P/0688160980.0...   \n",
       "52111   http://images.amazon.com/images/P/0192823949.0...   \n",
       "34954   http://images.amazon.com/images/P/0373484666.0...   \n",
       "20654   http://images.amazon.com/images/P/0446404039.0...   \n",
       "\n",
       "                                              Image-URL-L  \n",
       "236310  http://images.amazon.com/images/P/0812540298.0...  \n",
       "243752  http://images.amazon.com/images/P/0688160980.0...  \n",
       "52111   http://images.amazon.com/images/P/0192823949.0...  \n",
       "34954   http://images.amazon.com/images/P/0373484666.0...  \n",
       "20654   http://images.amazon.com/images/P/0446404039.0...  "
      ]
     },
     "execution_count": 3,
     "metadata": {},
     "output_type": "execute_result"
    }
   ],
   "source": [
    "books.sample(5)"
   ]
  },
  {
   "cell_type": "code",
   "execution_count": 4,
   "id": "e2c13d4c-4951-4388-9f4a-0bffa9f72eb3",
   "metadata": {},
   "outputs": [
    {
     "data": {
      "text/html": [
       "<div>\n",
       "<style scoped>\n",
       "    .dataframe tbody tr th:only-of-type {\n",
       "        vertical-align: middle;\n",
       "    }\n",
       "\n",
       "    .dataframe tbody tr th {\n",
       "        vertical-align: top;\n",
       "    }\n",
       "\n",
       "    .dataframe thead th {\n",
       "        text-align: right;\n",
       "    }\n",
       "</style>\n",
       "<table border=\"1\" class=\"dataframe\">\n",
       "  <thead>\n",
       "    <tr style=\"text-align: right;\">\n",
       "      <th></th>\n",
       "      <th>User-ID</th>\n",
       "      <th>Location</th>\n",
       "      <th>Age</th>\n",
       "    </tr>\n",
       "  </thead>\n",
       "  <tbody>\n",
       "    <tr>\n",
       "      <th>185697</th>\n",
       "      <td>185698</td>\n",
       "      <td>paris, paris, france</td>\n",
       "      <td>28.0</td>\n",
       "    </tr>\n",
       "    <tr>\n",
       "      <th>161794</th>\n",
       "      <td>161795</td>\n",
       "      <td>leiden, zuid-holland, netherlands</td>\n",
       "      <td>58.0</td>\n",
       "    </tr>\n",
       "    <tr>\n",
       "      <th>144652</th>\n",
       "      <td>144653</td>\n",
       "      <td>antioch, tennessee, usa</td>\n",
       "      <td>NaN</td>\n",
       "    </tr>\n",
       "    <tr>\n",
       "      <th>168668</th>\n",
       "      <td>168669</td>\n",
       "      <td>mahwah, new jersey, usa</td>\n",
       "      <td>NaN</td>\n",
       "    </tr>\n",
       "    <tr>\n",
       "      <th>177109</th>\n",
       "      <td>177110</td>\n",
       "      <td>simi valley, california, usa</td>\n",
       "      <td>NaN</td>\n",
       "    </tr>\n",
       "  </tbody>\n",
       "</table>\n",
       "</div>"
      ],
      "text/plain": [
       "        User-ID                           Location   Age\n",
       "185697   185698               paris, paris, france  28.0\n",
       "161794   161795  leiden, zuid-holland, netherlands  58.0\n",
       "144652   144653            antioch, tennessee, usa   NaN\n",
       "168668   168669            mahwah, new jersey, usa   NaN\n",
       "177109   177110       simi valley, california, usa   NaN"
      ]
     },
     "execution_count": 4,
     "metadata": {},
     "output_type": "execute_result"
    }
   ],
   "source": [
    "users.sample(5)"
   ]
  },
  {
   "cell_type": "code",
   "execution_count": 5,
   "id": "81f5452a-9225-4386-b1f4-c85da6f8e6c1",
   "metadata": {},
   "outputs": [
    {
     "data": {
      "text/html": [
       "<div>\n",
       "<style scoped>\n",
       "    .dataframe tbody tr th:only-of-type {\n",
       "        vertical-align: middle;\n",
       "    }\n",
       "\n",
       "    .dataframe tbody tr th {\n",
       "        vertical-align: top;\n",
       "    }\n",
       "\n",
       "    .dataframe thead th {\n",
       "        text-align: right;\n",
       "    }\n",
       "</style>\n",
       "<table border=\"1\" class=\"dataframe\">\n",
       "  <thead>\n",
       "    <tr style=\"text-align: right;\">\n",
       "      <th></th>\n",
       "      <th>User-ID</th>\n",
       "      <th>ISBN</th>\n",
       "      <th>Book-Rating</th>\n",
       "    </tr>\n",
       "  </thead>\n",
       "  <tbody>\n",
       "    <tr>\n",
       "      <th>413926</th>\n",
       "      <td>98741</td>\n",
       "      <td>0440213029</td>\n",
       "      <td>0</td>\n",
       "    </tr>\n",
       "    <tr>\n",
       "      <th>875426</th>\n",
       "      <td>211961</td>\n",
       "      <td>0064400085</td>\n",
       "      <td>10</td>\n",
       "    </tr>\n",
       "    <tr>\n",
       "      <th>495429</th>\n",
       "      <td>119223</td>\n",
       "      <td>0446611662</td>\n",
       "      <td>8</td>\n",
       "    </tr>\n",
       "    <tr>\n",
       "      <th>1068409</th>\n",
       "      <td>255092</td>\n",
       "      <td>0898656257</td>\n",
       "      <td>0</td>\n",
       "    </tr>\n",
       "    <tr>\n",
       "      <th>849882</th>\n",
       "      <td>205485</td>\n",
       "      <td>0515135828</td>\n",
       "      <td>10</td>\n",
       "    </tr>\n",
       "  </tbody>\n",
       "</table>\n",
       "</div>"
      ],
      "text/plain": [
       "         User-ID        ISBN  Book-Rating\n",
       "413926     98741  0440213029            0\n",
       "875426    211961  0064400085           10\n",
       "495429    119223  0446611662            8\n",
       "1068409   255092  0898656257            0\n",
       "849882    205485  0515135828           10"
      ]
     },
     "execution_count": 5,
     "metadata": {},
     "output_type": "execute_result"
    }
   ],
   "source": [
    "ratings.sample(5)"
   ]
  },
  {
   "cell_type": "code",
   "execution_count": 6,
   "id": "34f78192-4d78-4349-aba4-52d1de204c98",
   "metadata": {},
   "outputs": [
    {
     "name": "stdout",
     "output_type": "stream",
     "text": [
      "(271360, 8)\n",
      "(278858, 3)\n",
      "(1149780, 3)\n"
     ]
    }
   ],
   "source": [
    "print(books.shape)\n",
    "print(users.shape)\n",
    "print(ratings.shape)"
   ]
  },
  {
   "cell_type": "code",
   "execution_count": 7,
   "id": "93400905-e220-4837-9630-bef64c607559",
   "metadata": {},
   "outputs": [
    {
     "data": {
      "text/plain": [
       "ISBN                   0\n",
       "Book-Title             0\n",
       "Book-Author            2\n",
       "Year-Of-Publication    0\n",
       "Publisher              2\n",
       "Image-URL-S            0\n",
       "Image-URL-M            0\n",
       "Image-URL-L            3\n",
       "dtype: int64"
      ]
     },
     "execution_count": 7,
     "metadata": {},
     "output_type": "execute_result"
    }
   ],
   "source": [
    "books.isnull().sum()"
   ]
  },
  {
   "cell_type": "code",
   "execution_count": 8,
   "id": "3cee1a4b-3c1a-4911-b901-00f3479f297e",
   "metadata": {},
   "outputs": [
    {
     "data": {
      "text/plain": [
       "User-ID          0\n",
       "Location         0\n",
       "Age         110762\n",
       "dtype: int64"
      ]
     },
     "execution_count": 8,
     "metadata": {},
     "output_type": "execute_result"
    }
   ],
   "source": [
    "users.isnull().sum()"
   ]
  },
  {
   "cell_type": "code",
   "execution_count": 9,
   "id": "b6cf3182-e7e8-48ed-a918-84ff86591270",
   "metadata": {},
   "outputs": [
    {
     "data": {
      "text/plain": [
       "User-ID        0\n",
       "ISBN           0\n",
       "Book-Rating    0\n",
       "dtype: int64"
      ]
     },
     "execution_count": 9,
     "metadata": {},
     "output_type": "execute_result"
    }
   ],
   "source": [
    "ratings.isnull().sum()"
   ]
  },
  {
   "cell_type": "code",
   "execution_count": 10,
   "id": "6e5f16af-32ad-487b-92ac-49ff500950ef",
   "metadata": {},
   "outputs": [
    {
     "data": {
      "text/plain": [
       "0"
      ]
     },
     "execution_count": 10,
     "metadata": {},
     "output_type": "execute_result"
    }
   ],
   "source": [
    "books.duplicated().sum()"
   ]
  },
  {
   "cell_type": "code",
   "execution_count": 11,
   "id": "45947927-3df4-460c-9b88-ea295e33298b",
   "metadata": {},
   "outputs": [
    {
     "data": {
      "text/plain": [
       "0"
      ]
     },
     "execution_count": 11,
     "metadata": {},
     "output_type": "execute_result"
    }
   ],
   "source": [
    "users.duplicated().sum()"
   ]
  },
  {
   "cell_type": "code",
   "execution_count": 12,
   "id": "c893c0c7-f752-42b2-a158-2c06a25663c1",
   "metadata": {},
   "outputs": [
    {
     "data": {
      "text/plain": [
       "0"
      ]
     },
     "execution_count": 12,
     "metadata": {},
     "output_type": "execute_result"
    }
   ],
   "source": [
    "ratings.duplicated().sum()"
   ]
  },
  {
   "cell_type": "markdown",
   "id": "c1d736d9-f81a-42c1-b8f0-7fdafb79e4f6",
   "metadata": {},
   "source": [
    "<h2>Popularity Based Recommender System</h2>"
   ]
  },
  {
   "cell_type": "code",
   "execution_count": null,
   "id": "af5235b2-c8a3-4944-9cae-72fd850c5f15",
   "metadata": {},
   "outputs": [],
   "source": []
  }
 ],
 "metadata": {
  "kernelspec": {
   "display_name": "Python 3 (ipykernel)",
   "language": "python",
   "name": "python3"
  },
  "language_info": {
   "codemirror_mode": {
    "name": "ipython",
    "version": 3
   },
   "file_extension": ".py",
   "mimetype": "text/x-python",
   "name": "python",
   "nbconvert_exporter": "python",
   "pygments_lexer": "ipython3",
   "version": "3.12.4"
  }
 },
 "nbformat": 4,
 "nbformat_minor": 5
}
